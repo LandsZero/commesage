{
  "nbformat": 4,
  "nbformat_minor": 0,
  "metadata": {
    "colab": {
      "provenance": [],
      "authorship_tag": "ABX9TyMUWZQ7aMQFBESxsDYw8dO/",
      "include_colab_link": true
    },
    "kernelspec": {
      "name": "python3",
      "display_name": "Python 3"
    },
    "language_info": {
      "name": "python"
    }
  },
  "cells": [
    {
      "cell_type": "markdown",
      "metadata": {
        "id": "view-in-github",
        "colab_type": "text"
      },
      "source": [
        "<a href=\"https://colab.research.google.com/github/LandsZero/commesage/blob/main/l2QV.ipynb\" target=\"_parent\"><img src=\"https://colab.research.google.com/assets/colab-badge.svg\" alt=\"Open In Colab\"/></a>"
      ]
    },
    {
      "cell_type": "code",
      "execution_count": 7,
      "metadata": {
        "colab": {
          "base_uri": "https://localhost:8080/",
          "height": 255
        },
        "id": "FJgtXvbMJrrM",
        "outputId": "11526ae1-f5d7-4118-e186-7feb9fa92d5f"
      },
      "outputs": [
        {
          "output_type": "execute_result",
          "data": {
            "text/plain": [
              "<Figure size 454.517x284.278 with 1 Axes>"
            ],
            "image/png": "[encoded data removed]"
          },
          "metadata": {},
          "execution_count": 7
        }
      ],
      "source": [
        "from qiskit import QuantumCircuit\n",
        "# Создаем квантовую схему с 2 кубитами и 2 классическими битами\n",
        "circuit = QuantumCircuit(2, 2)\n",
        "# Добавляем квантовые вентили\n",
        "circuit.h(0) # Применяем вентиль Адамара к кубиту 0\n",
        "circuit.cx(0, 1) # Применяем CNOT вентиль между кубитами 0 и 1\n",
        "circuit.measure([0, 1], [0, 1]) # Измеряем состояния кубитов и\n",
        "circuit.draw(output='mpl')"
      ]
    },
    {
      "cell_type": "code",
      "source": [
        "from qiskit import QuantumCircuit, transpile\n",
        "from qiskit_aer import AerSimulator\n",
        "from qiskit.visualization import plot_histogram\n",
        "\n",
        "# Создаем квантовую схему с 2 кубитами и 2 классическими битами\n",
        "circ = QuantumCircuit(2, 2)\n",
        "circ.h(0)     # Применяем гейт Адамара к первому кубиту\n",
        "circ.cx(0, 1) # Применяем гейт CNOT ко второму кубиту, управляемый первым\n",
        "circ.measure([0, 1], [0, 1]) # Измеряем оба кубита\n",
        "\n",
        "# Выбираем симулятор в качестве бэкенда\n",
        "simulator = AerSimulator()\n",
        "\n",
        "# Выполняем транспиляцию схемы для симулятора\n",
        "# Транспиляция оптимизирует схему, чтобы она могла быть выполнена на бэкенде\n",
        "transpiled_circuit = transpile(circ, simulator)\n",
        "\n",
        "# Визуализируем исходную схему и транспилированную\n",
        "print(\"Исходная схема:\")\n",
        "print(circ.draw())\n",
        "print(\"\\nТранспилированная схема:\")\n",
        "print(transpiled_circuit.draw())\n",
        "\n",
        "# Запускаем транспилированную схему на симуляторе\n",
        "job = simulator.run(transpiled_circuit, shots=500)\n",
        "result = job.result()\n",
        "counts = result.get_counts(transpiled_circuit)\n",
        "\n",
        "# Выводим результаты\n",
        "print(\"\\nРезультаты измерений:\")\n",
        "print(counts)\n",
        "plot_histogram(counts)\n"
      ],
      "metadata": {
        "colab": {
          "base_uri": "https://localhost:8080/",
          "height": 923
        },
        "id": "-D3T1eBMKUGt",
        "outputId": "32dbec64-3531-48e2-95ad-142fb38ccd80"
      },
      "execution_count": 13,
      "outputs": [
        {
          "output_type": "stream",
          "name": "stderr",
          "text": [
            "ERROR:stevedore.extension:Could not load 'ibm_backend': cannot import name 'ProviderV1' from 'qiskit.providers' (/usr/local/lib/python3.12/dist-packages/qiskit/providers/__init__.py)\n",
            "ERROR:stevedore.extension:Could not load 'ibm_dynamic_circuits': cannot import name 'ProviderV1' from 'qiskit.providers' (/usr/local/lib/python3.12/dist-packages/qiskit/providers/__init__.py)\n",
            "ERROR:stevedore.extension:Could not load 'ibm_backend': cannot import name 'ProviderV1' from 'qiskit.providers' (/usr/local/lib/python3.12/dist-packages/qiskit/providers/__init__.py)\n",
            "ERROR:stevedore.extension:Could not load 'ibm_dynamic_circuits': cannot import name 'ProviderV1' from 'qiskit.providers' (/usr/local/lib/python3.12/dist-packages/qiskit/providers/__init__.py)\n"
          ]
        },
        {
          "output_type": "stream",
          "name": "stdout",
          "text": [
            "Исходная схема:\n",
            "     ┌───┐     ┌─┐   \n",
            "q_0: ┤ H ├──■──┤M├───\n",
            "     └───┘┌─┴─┐└╥┘┌─┐\n",
            "q_1: ─────┤ X ├─╫─┤M├\n",
            "          └───┘ ║ └╥┘\n",
            "c: 2/═══════════╩══╩═\n",
            "                0  1 \n",
            "\n",
            "Транспилированная схема:\n",
            "     ┌───┐     ┌─┐   \n",
            "q_0: ┤ H ├──■──┤M├───\n",
            "     └───┘┌─┴─┐└╥┘┌─┐\n",
            "q_1: ─────┤ X ├─╫─┤M├\n",
            "          └───┘ ║ └╥┘\n",
            "c: 2/═══════════╩══╩═\n",
            "                0  1 \n",
            "\n",
            "Результаты измерений:\n",
            "{'00': 259, '11': 241}\n"
          ]
        },
        {
          "output_type": "execute_result",
          "data": {
            "text/plain": [
              "<Figure size 640x480 with 1 Axes>"
            ],
            "image/png": "[encoded data removed]"
          },
          "metadata": {},
          "execution_count": 13
        }
      ]
    },
    {
      "cell_type": "code",
      "source": [
        "#scheme1_1\n",
        "from qiskit import QuantumCircuit\n",
        "# Создаем квантовую схему с 2 кубитами и 2 классическими битами\n",
        "s1 = QuantumCircuit(2, 2)\n",
        "# Добавляем квантовые вентили\n",
        "s1.x(1) # Применяем CNOT вентиль между кубитами 0 и 1\n",
        "s1.measure([0, 1], [0, 1]) # Измеряем состояния кубитов и\n",
        "s1.draw(output='mpl')"
      ],
      "metadata": {
        "colab": {
          "base_uri": "https://localhost:8080/",
          "height": 255
        },
        "id": "UQVt25BEKUNt",
        "outputId": "e8047b78-4bfd-433b-cd4f-3f455fe518f1"
      },
      "execution_count": 16,
      "outputs": [
        {
          "output_type": "execute_result",
          "data": {
            "text/plain": [
              "<Figure size 370.906x284.278 with 1 Axes>"
            ],
            "image/png": "[encoded data removed]"
          },
          "metadata": {},
          "execution_count": 16
        }
      ]
    },
    {
      "cell_type": "code",
      "source": [
        "#scheme1_2\n",
        "import numpy as np\n",
        "from qiskit import QuantumCircuit\n",
        "from qiskit_aer import AerSimulator\n",
        "# Создаем квантовую схему с 1 кубитами и 1 классическими битами\n",
        "s2 = QuantumCircuit(1,1)\n",
        "s2.h(0)\n",
        "initial_state = [1/np.sqrt(2), 1/np.sqrt(2)]\n",
        "s2.initialize(initial_state, 0)\n",
        "s2.measure([0, 0], [0, 0]) # Измеряем состояния кубитов\n",
        "s2.draw(output='mpl')\n",
        "simulator = AerSimulator()\n",
        "job = simulator.run(s2, shots=1)\n",
        "job2 = simulator.run(s2, shots=2)\n",
        "job3 = simulator.run(s2, shots=8)\n",
        "job4 = simulator.run(s2, shots=1024)\n",
        "\n",
        "result = job.result()\n",
        "result2 = job2.result()\n",
        "result3 = job3.result()\n",
        "result4 = job4.result()\n",
        "\n",
        "\n",
        "counts = result.get_counts()\n",
        "counts2 = result2.get_counts()\n",
        "counts3 = result3.get_counts()\n",
        "counts4 = result4.get_counts()\n",
        "\n",
        "\n",
        "print(\"\\nРезультаты измерений (количество):\", counts)\n",
        "print(\"\\nРезультаты измерений2 (количество):\", counts2)\n",
        "print(\"\\nРезультаты измерений3 (количество):\", counts3)\n",
        "print(\"\\nРезультаты измерений4 (количество):\", counts4)\n",
        "\n",
        "\n",
        "plot_histogram(counts4)\n",
        "##Результат примерно 50%\n",
        "##"
      ],
      "metadata": {
        "colab": {
          "base_uri": "https://localhost:8080/",
          "height": 626
        },
        "id": "73vNmmVKKUTQ",
        "outputId": "d7108c27-6c48-4ff1-9ad4-5009989be5a3"
      },
      "execution_count": 41,
      "outputs": [
        {
          "output_type": "stream",
          "name": "stdout",
          "text": [
            "\n",
            "Результаты измерений (количество): {'1': 1}\n",
            "\n",
            "Результаты измерений2 (количество): {'1': 2}\n",
            "\n",
            "Результаты измерений3 (количество): {'1': 4, '0': 4}\n",
            "\n",
            "Результаты измерений4 (количество): {'0': 515, '1': 509}\n"
          ]
        },
        {
          "output_type": "execute_result",
          "data": {
            "text/plain": [
              "<Figure size 640x480 with 1 Axes>"
            ],
            "image/png": "[encoded data removed]"
          },
          "metadata": {},
          "execution_count": 41
        }
      ]
    },
    {
      "cell_type": "code",
      "source": [
        "#scheme1_3\n",
        "from qiskit import QuantumCircuit\n",
        "from qiskit_aer import AerSimulator\n",
        "# Создаем квантовую схему с 2 кубитами и 2 классическими битами\n",
        "s3 = QuantumCircuit(2, 2)\n",
        "# Добавляем квантовые вентили\n",
        "s3.h(0) # Применяем вентиль Адамара к кубиту 0\n",
        "s3.x(1) # Применяем вентиль Адамара к кубиту 0\n",
        "s3.cx(0, 1) # Применяем CNOT вентиль между кубитами 0 и 1\n",
        "s3.measure([0, 1], [0, 1]) # Измеряем состояния кубитов и\n",
        "s3.draw(output='mpl')\n",
        "simulator = AerSimulator()\n",
        "jobs3 = simulator.run(s3, shots=1000)\n",
        "results3 = jobs3.result()\n",
        "countss3 = results3.get_counts\n",
        "\n",
        "print(\"\\nРезультаты измерений4 (количество):\", countss3)\n",
        "\n",
        "\n",
        "\n"
      ],
      "metadata": {
        "colab": {
          "base_uri": "https://localhost:8080/"
        },
        "id": "jt4o69doKUZY",
        "outputId": "f31af3ae-f2f0-4574-f60e-89e8c71a1565"
      },
      "execution_count": 52,
      "outputs": [
        {
          "output_type": "stream",
          "name": "stdout",
          "text": [
            "\n",
            "Результаты измерений4 (количество): <bound method Result.get_counts of Result(backend_name='aer_simulator', backend_version='0.17.2', job_id='ba57ea15-1101-4716-902c-373388a56aff', success=True, results=[ExperimentResult(shots=1000, success=True, meas_level=2, data=ExperimentResultData(counts={'0x1': 514, '0x2': 486}), header={'creg_sizes': [['c', 2]], 'global_phase': 0.0, 'memory_slots': 2, 'n_qubits': 2, 'name': 'circuit-96', 'qreg_sizes': [['q', 2]], 'metadata': {}}, status=DONE, seed_simulator=2046189233, metadata={'time_taken': 0.004370372, 'num_bind_params': 1, 'parallel_state_update': 2, 'parallel_shots': 1, 'required_memory_mb': 0, 'input_qubit_map': [[1, 1], [0, 0]], 'method': 'stabilizer', 'device': 'CPU', 'num_qubits': 2, 'sample_measure_time': 0.003083672, 'active_input_qubits': [0, 1], 'num_clbits': 2, 'remapped_qubits': False, 'runtime_parameter_bind': False, 'max_memory_mb': 12975, 'noise': 'ideal', 'measure_sampling': True, 'batched_shots_optimization': False, 'fusion': {'enabled': False}}, time_taken=0.004370372)], date=2025-10-28T12:23:21.874023, status=COMPLETED, header=None, qobj_id='', metadata={'time_taken_parameter_binding': 1.9382e-05, 'time_taken_execute': 0.004421693, 'omp_enabled': True, 'max_gpu_memory_mb': 0, 'max_memory_mb': 12975, 'parallel_experiments': 1}, time_taken=0.0054073333740234375)>\n"
          ]
        }
      ]
    }
  ]
}